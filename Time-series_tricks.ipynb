{
 "cells": [
  {
   "cell_type": "code",
   "execution_count": null,
   "id": "f700228c-c171-4eaf-9ac2-e575e245e739",
   "metadata": {},
   "outputs": [],
   "source": [
    "# Combine date an time and convert to datetime \n",
    "df['t'] = df['Date'] + ' ' + df['Time']\n",
    "df['t']  = pd.to_datetime(df['t'])"
   ]
  },
  {
   "cell_type": "code",
   "execution_count": null,
   "id": "b0042719-4696-4e9f-9a8c-3f83ea2c62ba",
   "metadata": {},
   "outputs": [],
   "source": [
    "# dont forget to sort the time before any time related analysis\n",
    "df= df.sort_values(by=['ID','t'])\n"
   ]
  },
  {
   "cell_type": "code",
   "execution_count": null,
   "id": "bf155aed-f38e-4f63-8bfb-7e94917a57a6",
   "metadata": {},
   "outputs": [],
   "source": [
    "#If you want to change the time interval for a specific vaiables such as ID .etc, use grouper\n",
    "df_50mins= df.groupby([pd.Grouper(key='t', freq='50Min'), 'ID']).mean().reset_index()\n"
   ]
  },
  {
   "cell_type": "code",
   "execution_count": null,
   "id": "78086fd0-33cc-46f1-85b6-7399f3da5a12",
   "metadata": {},
   "outputs": [],
   "source": [
    "# Finding variation of any variables from their previous values can be measured by \"shift\"\n",
    "df['prev_variable'] = df.groupby('ID')['varaible'].shift()"
   ]
  },
  {
   "cell_type": "code",
   "execution_count": null,
   "id": "cdf01a2e-2c02-44c6-b384-d751cfda08e7",
   "metadata": {},
   "outputs": [],
   "source": [
    "#updating any stats (mean, max, min etc) from the starting point can be done by using rolling along with set_index\n",
    "df_Max_updated_from_starting= df.set_index('t').groupby(['ID'])['variable'].rolling('2D').max().reset_index().rename(columns={'variable':'Updated_Max_Vr'})\n",
    "\n"
   ]
  }
 ],
 "metadata": {
  "kernelspec": {
   "display_name": "Python 3 (ipykernel)",
   "language": "python",
   "name": "python3"
  },
  "language_info": {
   "codemirror_mode": {
    "name": "ipython",
    "version": 3
   },
   "file_extension": ".py",
   "mimetype": "text/x-python",
   "name": "python",
   "nbconvert_exporter": "python",
   "pygments_lexer": "ipython3",
   "version": "3.9.7"
  }
 },
 "nbformat": 4,
 "nbformat_minor": 5
}
